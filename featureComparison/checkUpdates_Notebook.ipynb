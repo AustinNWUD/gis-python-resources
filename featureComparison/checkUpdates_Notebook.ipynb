{
 "cells": [
  {
   "cell_type": "code",
   "execution_count": 8,
   "id": "1357e121",
   "metadata": {},
   "outputs": [],
   "source": [
    "import arcpy\n",
    "import pandas as pd\n",
    "from arcgis.features import GeoAccessor, GeoDaskSeriesAccessor\n",
    "import datetime\n",
    "import os"
   ]
  },
  {
   "cell_type": "code",
   "execution_count": null,
   "id": "d25ce5b7",
   "metadata": {},
   "outputs": [],
   "source": [
    "#the original table to check against\n",
    "old = r\"featureComparison\\example_data\\originalData.gdb\\polygons\"\n",
    "\n",
    "#the new table to check for updates in\n",
    "new = r\"featureComparison\\example_data\\updatedData.gdb\\polygons\""
   ]
  },
  {
   "cell_type": "code",
   "execution_count": null,
   "id": "7d521c5f",
   "metadata": {},
   "outputs": [],
   "source": [
    "#the column for the unique_id in the dataset\n",
    "id_fld = 'unique_id'"
   ]
  },
  {
   "cell_type": "code",
   "execution_count": null,
   "id": "f4d25856",
   "metadata": {},
   "outputs": [],
   "source": [
    "#the location where the output filegeodatabase and geodatabase table should be created\n",
    "output_directory = \"featureComparison\\\\outputs\""
   ]
  },
  {
   "cell_type": "code",
   "execution_count": null,
   "id": "223f4d35",
   "metadata": {},
   "outputs": [],
   "source": [
    "#creates spatial dataframes using arcgis module\n",
    "old_df = pd.DataFrame.spatial.from_featureclass(old)\n",
    "new_df = pd.DataFrame.spatial.from_featureclass(new)"
   ]
  },
  {
   "cell_type": "code",
   "execution_count": null,
   "id": "decfe008",
   "metadata": {},
   "outputs": [],
   "source": [
    "#creates the output filegeodatabase and output geodatabase table\n",
    "current = datetime.datetime.now().strftime(\"%m%d%Y%H%M%S\")\n",
    "out_db = f\"review_{current}.gdb\"\n",
    "out_file = f\"reviewTable_{current}\"\n",
    "\n",
    "arcpy.management.CreateFileGDB(output_directory, out_db)\n",
    "arcpy.management.CreateTable(f\"{output_directory}\\\\{out_db}\", out_file)\n",
    "\n",
    "out_table = os.path.join(output_directory, out_db, out_file)"
   ]
  },
  {
   "cell_type": "code",
   "execution_count": null,
   "id": "866366c4",
   "metadata": {},
   "outputs": [
    {
     "data": {
      "text/html": [
       "<div class='gpresult'><h2 class='msg-title'>Messages</h2><div id='messages'>Start Time: Thursday, October 16, 2025 9:49:19 AM<br>Adding description to reviewTable_10162025094640...<br>Succeeded at Thursday, October 16, 2025 9:49:19 AM (Elapsed Time: 0.07 seconds)<br></div><div id = 'default' /></div></div>"
      ],
      "text/plain": [
       "<Result 'featureComparison\\\\outputs\\\\review_10162025094640.gdb\\\\reviewTable_10162025094640'>"
      ]
     },
     "execution_count": 13,
     "metadata": {},
     "output_type": "execute_result"
    }
   ],
   "source": [
    "#adds summary fields to created table to populate\n",
    "arcpy.management.AddField(out_table,\n",
    "                          field_name = 'update_type',\n",
    "                          field_type = 'TEXT')\n",
    "arcpy.management.AddField(out_table, \n",
    "                          field_name = 'unique_id',\n",
    "                          field_type= 'TEXT')\n",
    "arcpy.management.AddField(out_table,\n",
    "                          field_name = 'description',\n",
    "                          field_type = 'TEXT',\n",
    "                          field_length=8000)\n"
   ]
  },
  {
   "cell_type": "code",
   "execution_count": null,
   "id": "b055cdaf",
   "metadata": {},
   "outputs": [],
   "source": [
    "#list of output fields for use in loops\n",
    "out_flds = ['update_type', 'unique_id', 'description']"
   ]
  },
  {
   "cell_type": "code",
   "execution_count": null,
   "id": "8792b7e7",
   "metadata": {},
   "outputs": [],
   "source": [
    "#checks if any original fields have been removed or any new fields have been added\n",
    "\n",
    "old_flds = list(old_df.columns)\n",
    "new_flds = list(new_df.columns)\n",
    "\n",
    "missing = [f for f in old_flds if f not in new_flds]\n",
    "new = [f for f in new_flds if f not in old_flds]\n",
    "\n",
    "with arcpy.da.InsertCursor(out_table, out_flds) as cursor:\n",
    "    if len(missing) > 0:\n",
    "        for m in missing:\n",
    "            up = ['DELETED FIELD', m, 'Legacy field not present in new table']\n",
    "            cursor.insertRow(up)\n",
    "    if len(new) > 0:\n",
    "        for n in new:\n",
    "            up = ['ADDED FIELD', n, 'New field added to layer']\n",
    "    \n"
   ]
  },
  {
   "cell_type": "code",
   "execution_count": null,
   "id": "8769794a",
   "metadata": {},
   "outputs": [],
   "source": [
    "#checks for any individual features have been removed or added based on unique_id\n",
    "\n",
    "old_ids = list(old_df[id_fld])\n",
    "new_ids = list(new_df[id_fld])\n",
    "\n",
    "deleted = [f for f in old_ids if f not in new_ids]\n",
    "added = [f for f in new_ids if f not in old_ids]\n",
    "\n",
    "with arcpy.da.InsertCursor(out_table, out_flds) as cursor:\n",
    "    if len(deleted) > 0:\n",
    "        for d in deleted:\n",
    "            up = ['DELETED_FEATURE', d, 'Feature not in updated table']\n",
    "            cursor.insertRow(up)\n",
    "    if len(added) > 0:\n",
    "        for a in added:\n",
    "            up =['ADDED_FEATURE', a, 'New feature in update table']"
   ]
  },
  {
   "cell_type": "code",
   "execution_count": null,
   "id": "50a59b15",
   "metadata": {},
   "outputs": [],
   "source": [
    "#list comprehension to get valid results existing in both tables to check for updates\n",
    "existing_ids = [id for id in old_ids if id in new_ids]\n",
    "\n",
    "valid_df = new_df.loc[new_df[id_fld].isin(existing_ids)]\n",
    "\n",
    "valid_flds = [f for f in old_flds if f in new_flds]"
   ]
  },
  {
   "cell_type": "code",
   "execution_count": 48,
   "id": "75d77c8e",
   "metadata": {},
   "outputs": [],
   "source": [
    "with arcpy.da.InsertCursor(out_table, out_flds) as cursor:\n",
    "    for index, row in valid_df.iterrows():\n",
    "        old_row = old_df.loc[old_df[id_fld] == row[id_fld]].iloc[0]\n",
    "        new_row = new_df.loc[new_df[id_fld] == row[id_fld]].iloc[0]\n",
    "        \n",
    "        validate = dict(old_row == new_row)\n",
    "        \n",
    "        if False in validate.values():\n",
    "            up = ['UPDATED_FEATURE', row[id_fld], str(validate)]\n",
    "            cursor.insertRow(up)"
   ]
  },
  {
   "cell_type": "code",
   "execution_count": 49,
   "id": "9f3391f8",
   "metadata": {},
   "outputs": [],
   "source": [
    "data = []\n",
    "with arcpy.da.SearchCursor(out_table, out_flds) as cursor:\n",
    "    for row in cursor:\n",
    "        data.append(row)\n",
    "        \n",
    "df = pd.DataFrame(data, columns=out_flds)"
   ]
  },
  {
   "cell_type": "code",
   "execution_count": 1,
   "id": "d4569e7c",
   "metadata": {},
   "outputs": [
    {
     "data": {
      "text/plain": [
       "list"
      ]
     },
     "execution_count": 1,
     "metadata": {},
     "output_type": "execute_result"
    }
   ],
   "source": [
    "type([])"
   ]
  },
  {
   "cell_type": "code",
   "execution_count": null,
   "id": "30f79edc",
   "metadata": {},
   "outputs": [],
   "source": []
  }
 ],
 "metadata": {
  "kernelspec": {
   "display_name": "Python 3",
   "language": "python",
   "name": "python3"
  },
  "language_info": {
   "codemirror_mode": {
    "name": "ipython",
    "version": 3
   },
   "file_extension": ".py",
   "mimetype": "text/x-python",
   "name": "python",
   "nbconvert_exporter": "python",
   "pygments_lexer": "ipython3",
   "version": "3.11.10"
  }
 },
 "nbformat": 4,
 "nbformat_minor": 5
}
